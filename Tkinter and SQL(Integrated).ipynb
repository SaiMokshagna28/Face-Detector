{
 "cells": [
  {
   "cell_type": "code",
   "execution_count": 28,
   "id": "fa9e8e23-2e81-4f13-8d39-e385a278e0ea",
   "metadata": {},
   "outputs": [],
   "source": [
    "import mysql.connector"
   ]
  },
  {
   "cell_type": "code",
   "execution_count": 29,
   "id": "a5330723-d2d3-4e5d-849c-13d729650c3d",
   "metadata": {},
   "outputs": [
    {
     "name": "stdout",
     "output_type": "stream",
     "text": [
      "<mysql.connector.connection.MySQLConnection object at 0x00000185B8058950>\n"
     ]
    }
   ],
   "source": [
    "mydb=mysql.connector.connect(\n",
    "host=\"localhost\",\n",
    "user=\"root\",\n",
    "passwd=\"\"\n",
    ")\n",
    "print(mydb)"
   ]
  },
  {
   "cell_type": "code",
   "execution_count": 30,
   "id": "c7be0b5c-e886-4746-a72c-fedf9f916f4a",
   "metadata": {},
   "outputs": [],
   "source": [
    "mycursor=mydb.cursor()\n",
    "mycursor.execute(\"CREATE DATABASE Authorized_user\")"
   ]
  },
  {
   "cell_type": "code",
   "execution_count": 32,
   "id": "5d275545-b1d0-408f-997f-41cf874ebfbd",
   "metadata": {},
   "outputs": [
    {
     "name": "stdout",
     "output_type": "stream",
     "text": [
      "('authorized_user',)\n",
      "('information_schema',)\n",
      "('mysql',)\n",
      "('performance_schema',)\n",
      "('phpmyadmin',)\n",
      "('python_database',)\n",
      "('student',)\n",
      "('students',)\n"
     ]
    }
   ],
   "source": [
    "mycursor.execute(\"SHOW DATABASES\")\n",
    "for x in mycursor:\n",
    "    print(x)"
   ]
  },
  {
   "cell_type": "code",
   "execution_count": 33,
   "id": "c861f9a9-40d3-4e58-a5d6-bdd590976d04",
   "metadata": {},
   "outputs": [],
   "source": [
    "mydb=mysql.connector.connect(\n",
    "host=\"localhost\",\n",
    "user=\"root\",\n",
    "passwd=\"\",\n",
    "database=\"authorized_user\"\n",
    ")\n",
    "mycursor=mydb.cursor()\n",
    "mycursor.execute(\"\"\"create table my_table(id int primary key, Name varchar(50), Age int, Address varchar(50))\"\"\")"
   ]
  },
  {
   "cell_type": "code",
   "execution_count": 7,
   "id": "12245fd7-061a-410c-a54c-8a6e532d8851",
   "metadata": {},
   "outputs": [
    {
     "name": "stdout",
     "output_type": "stream",
     "text": [
      "('my_table',)\n"
     ]
    }
   ],
   "source": [
    "mycursor.execute(\"SHOW TABLES\")\n",
    "for x in mycursor:\n",
    "    print(x)"
   ]
  },
  {
   "cell_type": "code",
   "execution_count": 17,
   "id": "2fefbd5a-067b-4406-9c22-2035568716f5",
   "metadata": {},
   "outputs": [
    {
     "ename": "IntegrityError",
     "evalue": "1062 (23000): Duplicate entry '1' for key 'PRIMARY'",
     "output_type": "error",
     "traceback": [
      "\u001b[1;31m---------------------------------------------------------------------------\u001b[0m",
      "\u001b[1;31mIntegrityError\u001b[0m                            Traceback (most recent call last)",
      "Cell \u001b[1;32mIn[17], line 3\u001b[0m\n\u001b[0;32m      1\u001b[0m sql\u001b[38;5;241m=\u001b[39m\u001b[38;5;124m\"\u001b[39m\u001b[38;5;124mINSERT INTO stu_table(id,name,age) values(\u001b[39m\u001b[38;5;132;01m%s\u001b[39;00m\u001b[38;5;124m,\u001b[39m\u001b[38;5;132;01m%s\u001b[39;00m\u001b[38;5;124m,\u001b[39m\u001b[38;5;132;01m%s\u001b[39;00m\u001b[38;5;124m)\u001b[39m\u001b[38;5;124m\"\u001b[39m\n\u001b[0;32m      2\u001b[0m val \u001b[38;5;241m=\u001b[39m (\u001b[38;5;241m1\u001b[39m,\u001b[38;5;124m\"\u001b[39m\u001b[38;5;124mAjay\u001b[39m\u001b[38;5;124m\"\u001b[39m,\u001b[38;5;241m23\u001b[39m)\n\u001b[1;32m----> 3\u001b[0m mycursor\u001b[38;5;241m.\u001b[39mexecute(sql,val)\n\u001b[0;32m      4\u001b[0m mydb\u001b[38;5;241m.\u001b[39mcommit()\n\u001b[0;32m      5\u001b[0m \u001b[38;5;28mprint\u001b[39m(mycursor\u001b[38;5;241m.\u001b[39mrowcount, \u001b[38;5;124m\"\u001b[39m\u001b[38;5;124mrecord inserted\u001b[39m\u001b[38;5;124m\"\u001b[39m)\n",
      "File \u001b[1;32m~\\anaconda3\\Lib\\site-packages\\mysql\\connector\\cursor.py:551\u001b[0m, in \u001b[0;36mMySQLCursor.execute\u001b[1;34m(self, operation, params, multi)\u001b[0m\n\u001b[0;32m    549\u001b[0m \u001b[38;5;28;01melse\u001b[39;00m:\n\u001b[0;32m    550\u001b[0m     \u001b[38;5;28;01mtry\u001b[39;00m:\n\u001b[1;32m--> 551\u001b[0m         \u001b[38;5;28mself\u001b[39m\u001b[38;5;241m.\u001b[39m_handle_result(\u001b[38;5;28mself\u001b[39m\u001b[38;5;241m.\u001b[39m_connection\u001b[38;5;241m.\u001b[39mcmd_query(stmt))\n\u001b[0;32m    552\u001b[0m     \u001b[38;5;28;01mexcept\u001b[39;00m errors\u001b[38;5;241m.\u001b[39mInterfaceError:\n\u001b[0;32m    553\u001b[0m         \u001b[38;5;28;01mif\u001b[39;00m \u001b[38;5;28mself\u001b[39m\u001b[38;5;241m.\u001b[39m_connection\u001b[38;5;241m.\u001b[39m_have_next_result:  \u001b[38;5;66;03m# pylint: disable=W0212\u001b[39;00m\n",
      "File \u001b[1;32m~\\anaconda3\\Lib\\site-packages\\mysql\\connector\\connection.py:490\u001b[0m, in \u001b[0;36mMySQLConnection.cmd_query\u001b[1;34m(self, query, raw, buffered, raw_as_string)\u001b[0m\n\u001b[0;32m    488\u001b[0m \u001b[38;5;28;01mif\u001b[39;00m \u001b[38;5;129;01mnot\u001b[39;00m \u001b[38;5;28misinstance\u001b[39m(query, \u001b[38;5;28mbytes\u001b[39m):\n\u001b[0;32m    489\u001b[0m     query \u001b[38;5;241m=\u001b[39m query\u001b[38;5;241m.\u001b[39mencode(\u001b[38;5;124m'\u001b[39m\u001b[38;5;124mutf-8\u001b[39m\u001b[38;5;124m'\u001b[39m)\n\u001b[1;32m--> 490\u001b[0m result \u001b[38;5;241m=\u001b[39m \u001b[38;5;28mself\u001b[39m\u001b[38;5;241m.\u001b[39m_handle_result(\u001b[38;5;28mself\u001b[39m\u001b[38;5;241m.\u001b[39m_send_cmd(ServerCmd\u001b[38;5;241m.\u001b[39mQUERY, query))\n\u001b[0;32m    492\u001b[0m \u001b[38;5;28;01mif\u001b[39;00m \u001b[38;5;28mself\u001b[39m\u001b[38;5;241m.\u001b[39m_have_next_result:\n\u001b[0;32m    493\u001b[0m     \u001b[38;5;28;01mraise\u001b[39;00m errors\u001b[38;5;241m.\u001b[39mInterfaceError(\n\u001b[0;32m    494\u001b[0m         \u001b[38;5;124m'\u001b[39m\u001b[38;5;124mUse cmd_query_iter for statements with multiple queries.\u001b[39m\u001b[38;5;124m'\u001b[39m)\n",
      "File \u001b[1;32m~\\anaconda3\\Lib\\site-packages\\mysql\\connector\\connection.py:395\u001b[0m, in \u001b[0;36mMySQLConnection._handle_result\u001b[1;34m(self, packet)\u001b[0m\n\u001b[0;32m    393\u001b[0m     \u001b[38;5;28;01mreturn\u001b[39;00m \u001b[38;5;28mself\u001b[39m\u001b[38;5;241m.\u001b[39m_handle_eof(packet)\n\u001b[0;32m    394\u001b[0m \u001b[38;5;28;01melif\u001b[39;00m packet[\u001b[38;5;241m4\u001b[39m] \u001b[38;5;241m==\u001b[39m \u001b[38;5;241m255\u001b[39m:\n\u001b[1;32m--> 395\u001b[0m     \u001b[38;5;28;01mraise\u001b[39;00m errors\u001b[38;5;241m.\u001b[39mget_exception(packet)\n\u001b[0;32m    397\u001b[0m \u001b[38;5;66;03m# We have a text result set\u001b[39;00m\n\u001b[0;32m    398\u001b[0m column_count \u001b[38;5;241m=\u001b[39m \u001b[38;5;28mself\u001b[39m\u001b[38;5;241m.\u001b[39m_protocol\u001b[38;5;241m.\u001b[39mparse_column_count(packet)\n",
      "\u001b[1;31mIntegrityError\u001b[0m: 1062 (23000): Duplicate entry '1' for key 'PRIMARY'"
     ]
    }
   ],
   "source": [
    "sql=\"INSERT INTO stu_table(id,name,age) values(%s,%s,%s)\"\n",
    "val = (1,\"Ajay\",23)\n",
    "mycursor.execute(sql,val)\n",
    "mydb.commit()\n",
    "print(mycursor.rowcount, \"record inserted\")"
   ]
  },
  {
   "cell_type": "code",
   "execution_count": null,
   "id": "f8a663f0-8b28-4b0a-8870-ff232178d72e",
   "metadata": {},
   "outputs": [],
   "source": [
    "sql=\"INSERT INTO stu_table(id,name,age) values(%s,%s,%s)\"\n",
    "val = [(2,\"Vijay\",25),\n",
    "      (3,\"Sujay\",20)]\n",
    "mycursor.executemany(sql,val)\n",
    "mydb.commit()\n",
    "print(mycursor.rowcount, \"record inserted\")"
   ]
  },
  {
   "cell_type": "code",
   "execution_count": 18,
   "id": "5cd6d808-5940-495d-b301-1a05f52af041",
   "metadata": {},
   "outputs": [
    {
     "name": "stdout",
     "output_type": "stream",
     "text": [
      "(1, 'Ajay', 23)\n",
      "(2, 'Vijay', 25)\n",
      "(3, 'Sujay', 20)\n"
     ]
    }
   ],
   "source": [
    "mycursor.execute(\"select * from stu_table\")\n",
    "myresult=mycursor.fetchall()\n",
    "for x in myresult:\n",
    "    print(x)"
   ]
  },
  {
   "cell_type": "code",
   "execution_count": null,
   "id": "d7ea0ecb-1ba3-45b7-b81f-721ff0cfe3b8",
   "metadata": {},
   "outputs": [],
   "source": []
  },
  {
   "cell_type": "code",
   "execution_count": 35,
   "id": "6d8394b8-f381-4a85-afb4-e5aa5be47692",
   "metadata": {},
   "outputs": [],
   "source": [
    "import tkinter as tk\n",
    "from tkinter import *\n",
    "\n",
    "window=tk.Tk()\n",
    "window.title(\"Graphical user interface\")\n",
    "\n",
    "l1=tk.Label(window,text=\"Name\",font=(\"Times New Roman\",20))\n",
    "#1.grid(column=0,row=0)\n",
    "\n",
    "#l1.pack()\n",
    "l1.place(x=5,y=0)\n",
    "\n",
    "\n",
    "t1=tk.Entry(window, width=30, bd=5)\n",
    "#t1.grid(column=1,row=0)\n",
    "#t1.pack(fill=BOTH)\n",
    "t1.place(x=150, y=5)\n",
    "\n",
    "\n",
    "\n",
    "l1=tk.Label(window,text=\"Roll number\",font=(\"Times New Roman\",20))\n",
    "l1.place(x=5,y=50)\n",
    "t2=tk.Entry(window, width=30, bd=5)\n",
    "t2.place(x=150, y=55)\n",
    "\n",
    "l1=tk.Label(window,text=\"Branch\",font=(\"Times New Roman\",20))\n",
    "l1.place(x=5,y=100)\n",
    "t3=tk.Entry(window, width=30, bd=5)\n",
    "t3.place(x=150, y=105)\n",
    "\n",
    "l1=tk.Label(window,text=\"District\",font=(\"Times New Roman\",20))\n",
    "l1.place(x=5,y=150)\n",
    "\n",
    "from tkinter.ttk import *\n",
    "c1=Combobox(window)\n",
    "c1['values']=(\"Srikakulam\",\"Vizianagaram\",\" Parvathipuram Manyam\",\"Alluri Sitharama Raju\",\"Visakhapatnam \",\"Anakapalli\",\"Kakinada\",\"Konaseema\",\"East Godavari\",\"West Godavari\",\"Eluru\",\"Krishna\",\"NTR\",\"Guntur\",\"Palnadu\",\"Bapatla\",\"Prakasam\",\"Nellore\",\" Kurnool\",\"Nandyal\",\"Anantapuramu\",\"Sri Sathya Sai\",\"YSR\",\"Annamayya\",\"Tirupati\",\"Chittoor\")\n",
    "c1.current(0)\n",
    "c1.place(x=150, y=155)\n",
    "\n",
    "l1=tk.Label(window,text=\"Year\",font=(\"Times New Roman\",20))\n",
    "l1.place(x=5,y=200)\n",
    "\n",
    "var1=IntVar()\n",
    "c2=Checkbutton(window, text='1st Year',var=var1)\n",
    "c2.place(x=150, y=205)\n",
    "\n",
    "var2=IntVar()\n",
    "c3=Checkbutton(window, text='2nd Year',var=var2)\n",
    "c3.place(x=235, y=205)\n",
    "\n",
    "var3=IntVar()\n",
    "c4=Checkbutton(window, text='3rd Year',var=var3)\n",
    "c4.place(x=325, y=205)\n",
    "\n",
    "var4=IntVar()\n",
    "c5=Checkbutton(window, text='4th Year',var=var4)\n",
    "c5.place(x=405, y=205)\n",
    "\n",
    "l1=tk.Label(window,text=\"Gender\",font=(\"Times New Roman\",20))\n",
    "l1.place(x=5,y=250)\n",
    "\n",
    "var=IntVar()\n",
    "r1=tk.Radiobutton(window, text='Male',variable=var, value=1)\n",
    "r1.place(x=150,y=255)\n",
    "\n",
    "r1=tk.Radiobutton(window, text='Female',variable=var, value=2)\n",
    "r1.place(x=250,y=255)\n",
    "\n",
    "r1=tk.Radiobutton(window, text='Other',variable=var, value=3)\n",
    "r1.place(x=350,y=255)\n",
    "\n",
    "l1=tk.Label(window,text=\"classes\",font=(\"Times New Roman\",20))\n",
    "l1.place(x=5,y=300)\n",
    "\n",
    "from tkinter import scrolledtext\n",
    "txt=scrolledtext.ScrolledText(window,width=30,height=1)\n",
    "txt.place(x=150,y=305)\n",
    "txt.insert(tk.INSERT, \"Enter today's subject classes\")\n",
    "\n",
    "l1=tk.Label(window,text=\"no of classes\",font=(\"Times New Roman\",15))\n",
    "l1.place(x=5,y=370)\n",
    "\n",
    "spin=tk.Spinbox(window,from_=0,to=100,width=5)\n",
    "spin.place(x=150,y=375)\n",
    "\n",
    "from tkinter import messagebox\n",
    "def btn_clicked():\n",
    "\n",
    "    mydb=mysql.connector.connect(\n",
    "        host=\"localhost\",\n",
    "        user=\"root\",\n",
    "        passwd=\"\",\n",
    "        database=\"python_database\"\n",
    "        )\n",
    "    mycursor=mydb.cursor()\n",
    "\n",
    "    sql=\"insert into my_table(Name, `Roll number`, Branch, District, Year, Gender, classes, `no of classes`) values(%s,%s,%s,%s,%s,%s,%s,%s)\"\n",
    "\n",
    "    if var1.get()==1:\n",
    "        s1=\"1st Year\"\n",
    "    elif var2.get()==1:\n",
    "        s1=\"2nd Year\"\n",
    "    elif var3.get()==1:\n",
    "        s1=\"3rd Year\"\n",
    "    elif var4.get()==1:\n",
    "        s1=\"4th Year\"\n",
    "    else:\n",
    "        s1=\"\"\n",
    "\n",
    "    if var.get()==1:\n",
    "        s2=\"Male\"\n",
    "    elif var.get()==2:\n",
    "        s2=\"Female\"\n",
    "    elif var.get()==3:\n",
    "        s2=\"Other\"\n",
    "    else:\n",
    "        s2=\"\"\n",
    "\n",
    "    \n",
    "    val=(t1.get(),t2.get(),t3.get(),c1.get(),s1,s2,txt.get(\"1.0\",tk.END),spin.get())\n",
    "    mycursor.execute(sql,val)\n",
    "    mydb.commit()\n",
    "    messagebox.showinfo('Message box','Your data is successfully inserted...')\n",
    "b1=tk.Button(window,text=\"Submit\", font=(\"Ariel bold\", 15),command=btn_clicked)\n",
    "b1.place(x=210,y=415)\n",
    "\n",
    "window.geometry(\"500x500\")\n",
    "window.mainloop()"
   ]
  },
  {
   "cell_type": "code",
   "execution_count": null,
   "id": "1829ca4d-f0b0-4f35-a917-d2393ca2fe0d",
   "metadata": {},
   "outputs": [],
   "source": []
  },
  {
   "cell_type": "code",
   "execution_count": null,
   "id": "7b61c4bb-ef74-4fdd-8446-bdb6aaa09588",
   "metadata": {},
   "outputs": [],
   "source": []
  }
 ],
 "metadata": {
  "kernelspec": {
   "display_name": "Python 3 (ipykernel)",
   "language": "python",
   "name": "python3"
  },
  "language_info": {
   "codemirror_mode": {
    "name": "ipython",
    "version": 3
   },
   "file_extension": ".py",
   "mimetype": "text/x-python",
   "name": "python",
   "nbconvert_exporter": "python",
   "pygments_lexer": "ipython3",
   "version": "3.11.7"
  }
 },
 "nbformat": 4,
 "nbformat_minor": 5
}
